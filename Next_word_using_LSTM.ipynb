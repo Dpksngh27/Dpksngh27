{
  "nbformat": 4,
  "nbformat_minor": 0,
  "metadata": {
    "colab": {
      "provenance": [],
      "mount_file_id": "1Kh5rMW3GrioFXmTOJylTfJdyW2N8du-6",
      "authorship_tag": "ABX9TyM6x64OYRll/NVE2gVf27G5",
      "include_colab_link": true
    },
    "kernelspec": {
      "name": "python3",
      "display_name": "Python 3"
    },
    "language_info": {
      "name": "python"
    }
  },
  "cells": [
    {
      "cell_type": "markdown",
      "metadata": {
        "id": "view-in-github",
        "colab_type": "text"
      },
      "source": [
        "<a href=\"https://colab.research.google.com/github/Dpksngh27/Dpksngh27/blob/main/Next_word_using_LSTM.ipynb\" target=\"_parent\"><img src=\"https://colab.research.google.com/assets/colab-badge.svg\" alt=\"Open In Colab\"/></a>"
      ]
    },
    {
      "cell_type": "code",
      "execution_count": 48,
      "metadata": {
        "id": "UkQNXYpJLU0T"
      },
      "outputs": [],
      "source": [
        "text =  \"\"\"Virat Kohli (Hindi pronunciation: born 5 November 1988) is an Indian international cricketer who currently plays Test\n",
        "          cricket and ODI cricket for India. Kohli is a former T20I player and a former\n",
        "          captain of the Indian national cricket team. He is a right-handed batsman and an\n",
        "          occasional unorthodox right arm quick bowler. He currently represents Royal\n",
        "          Challengers Bengaluru in the IPL and Delhi in domestic cricket. He holds the\n",
        "          record as the highest run-scorer in IPL, ranks third in T20I, third in ODI, and\n",
        "          stands as the fourth-highest in international cricket.[4] He also holds the\n",
        "          record for scoring the most centuries in ODI cricket and stands second in the\n",
        "          list of most international centuries scored. Hence, Kohli is widely regarded as\n",
        "          one of the greatest batsmen of all time and the greatest batsman in the modern era.\n",
        "           Kohli was a key member of the Indian team that won the 2011 Cricket World Cup,\n",
        "           2013 Champions Trophy and 2024 T20 World Cup and captained India to win the ICC\n",
        "           Test match three\"\"\""
      ]
    },
    {
      "cell_type": "code",
      "source": [
        "from google.colab import drive\n",
        "drive.mount('/content/drive')"
      ],
      "metadata": {
        "colab": {
          "base_uri": "https://localhost:8080/"
        },
        "id": "w_pJv-YvqQMv",
        "outputId": "d86930ad-732b-4733-8fd6-14c9b2d3bb38"
      },
      "execution_count": 49,
      "outputs": [
        {
          "output_type": "stream",
          "name": "stdout",
          "text": [
            "Drive already mounted at /content/drive; to attempt to forcibly remount, call drive.mount(\"/content/drive\", force_remount=True).\n"
          ]
        }
      ]
    },
    {
      "cell_type": "code",
      "source": [
        "import torch"
      ],
      "metadata": {
        "id": "Fvc0t8m5MhzL"
      },
      "execution_count": 50,
      "outputs": []
    },
    {
      "cell_type": "code",
      "source": [
        "from torch.utils.data import Dataset"
      ],
      "metadata": {
        "id": "4ZMTSGSXNCxh"
      },
      "execution_count": 51,
      "outputs": []
    },
    {
      "cell_type": "code",
      "source": [
        "word2idx = {word: i for i, word in enumerate(set(text.split()))}\n",
        "idx2word = {i:word for word, i in word2idx.items()}"
      ],
      "metadata": {
        "id": "5z6RbKvPNVOH"
      },
      "execution_count": 52,
      "outputs": []
    },
    {
      "cell_type": "code",
      "source": [
        "class customDataset(Dataset):\n",
        "  def __init__(self,text, sequence_length,wrord2idx):\n",
        "    self.text = text\n",
        "    self.sequence_length = sequence_length\n",
        "    self.word2idx = word2idx\n",
        "\n",
        "  def __len__(self):\n",
        "    return len(self.text) - self.sequence_length\n",
        "\n",
        "  def __getitem__(self, index):\n",
        "    sequence = [self.word2idx[word] for word in self.text[index: index+self.sequence_length]]\n",
        "    target = self.word2idx[self.text[index+self.sequence_length]]\n",
        "\n",
        "    return torch.tensor(sequence), torch.tensor(target)"
      ],
      "metadata": {
        "id": "9nsXtZ5uNdo6"
      },
      "execution_count": 53,
      "outputs": []
    },
    {
      "cell_type": "code",
      "source": [
        "dataset = customDataset(text.split(),20,word2idx)"
      ],
      "metadata": {
        "id": "yeLqvRHvNmik"
      },
      "execution_count": 54,
      "outputs": []
    },
    {
      "cell_type": "code",
      "source": [
        "dataset[10]"
      ],
      "metadata": {
        "colab": {
          "base_uri": "https://localhost:8080/"
        },
        "id": "_EcfVRbrNt00",
        "outputId": "dfb74b57-ce9a-4fa4-d48b-10c3406afb71"
      },
      "execution_count": 55,
      "outputs": [
        {
          "output_type": "execute_result",
          "data": {
            "text/plain": [
              "(tensor([ 11,  92, 100,  83,  18,  74,  88,  24,  30,  53,  24,  73,  95,  56,\n",
              "          19,  84,  46,  42,  16,  30]),\n",
              " tensor(84))"
            ]
          },
          "metadata": {},
          "execution_count": 55
        }
      ]
    },
    {
      "cell_type": "code",
      "source": [
        "idx2word = {idx: word for word, idx in word2idx.items()}"
      ],
      "metadata": {
        "id": "4Ae2VpsgNyYt"
      },
      "execution_count": 56,
      "outputs": []
    },
    {
      "cell_type": "code",
      "source": [
        "from torch.utils.data import DataLoader"
      ],
      "metadata": {
        "id": "8V5MHb9vOElM"
      },
      "execution_count": 57,
      "outputs": []
    },
    {
      "cell_type": "code",
      "source": [
        "dataloader = DataLoader(dataset, batch_size=32, shuffle = True)"
      ],
      "metadata": {
        "id": "ykyZPYUbOdEa"
      },
      "execution_count": 58,
      "outputs": []
    },
    {
      "cell_type": "code",
      "source": [
        "import torch.nn as nn"
      ],
      "metadata": {
        "id": "DGL5t9X8OpVy"
      },
      "execution_count": 59,
      "outputs": []
    },
    {
      "cell_type": "code",
      "source": [
        "class LSTM(nn.Module):\n",
        "  def __init__ (self, vocab_size, embed_size, hidden_size):\n",
        "    super(LSTM, self).__init__()\n",
        "    self.embed = nn.Embedding(vocab_size, embed_size)\n",
        "    self.lstm = nn.LSTM(embed_size, hidden_size, batch_first=True)\n",
        "    self.fc = nn.Linear(hidden_size,vocab_size)\n",
        "\n",
        "  def forward(self, x, h0,c0):\n",
        "    embed = self.embed(x)\n",
        "    out,(h_n, c_n) = self.lstm(embed, (h0,c0))\n",
        "    output = self.fc(out[:,-1,:])\n",
        "    return output, (h_n, c_n)"
      ],
      "metadata": {
        "id": "8wRaFat0OxWn"
      },
      "execution_count": 60,
      "outputs": []
    },
    {
      "cell_type": "code",
      "source": [
        "model = LSTM(len(word2idx), embed_size = 128, hidden_size=256)"
      ],
      "metadata": {
        "id": "j0LzJYV4SOeg"
      },
      "execution_count": 61,
      "outputs": []
    },
    {
      "cell_type": "code",
      "source": [
        "import torch.optim as optim\n",
        "optimizer = optim.SGD(model.parameters(), lr=0.05)\n",
        "criterion = nn.CrossEntropyLoss()"
      ],
      "metadata": {
        "id": "Mb4e6aq2WuOW"
      },
      "execution_count": 62,
      "outputs": []
    },
    {
      "cell_type": "markdown",
      "source": [
        "# Training LSTM MOdel"
      ],
      "metadata": {
        "id": "xiHOcZkcq0za"
      }
    },
    {
      "cell_type": "code",
      "source": [
        "for epoch in range(10):\n",
        "  for input, label in dataloader:\n",
        "    input = input\n",
        "    label = label\n",
        "\n",
        "\n",
        "    optimizer.zero_grad()\n",
        "    h0 = torch.zeros(1, input.size(0), 256)\n",
        "    c0 = torch.zeros(1, input.size(0),256)\n",
        "    outputs,_ = model(input, h0, c0)\n",
        "    loss = criterion(outputs, label)\n",
        "    loss.backward()\n",
        "    optimizer.step()\n",
        "  print(f\"Epoch{epoch} : Loss: {loss.item()}\")\n"
      ],
      "metadata": {
        "id": "Eyc7zcmcXaDi",
        "colab": {
          "base_uri": "https://localhost:8080/"
        },
        "outputId": "96bd0d88-911b-472e-9ef2-a701077dcf9b"
      },
      "execution_count": 63,
      "outputs": [
        {
          "output_type": "stream",
          "name": "stdout",
          "text": [
            "Epoch0 : Loss: 4.633436679840088\n",
            "Epoch1 : Loss: 4.585517406463623\n",
            "Epoch2 : Loss: 4.55507755279541\n",
            "Epoch3 : Loss: 4.575130939483643\n",
            "Epoch4 : Loss: 4.562908172607422\n",
            "Epoch5 : Loss: 4.550714492797852\n",
            "Epoch6 : Loss: 4.492986679077148\n",
            "Epoch7 : Loss: 4.49875020980835\n",
            "Epoch8 : Loss: 4.516615390777588\n",
            "Epoch9 : Loss: 4.501417636871338\n"
          ]
        }
      ]
    },
    {
      "cell_type": "code",
      "source": [
        "# input_seq = torch.tensor([word2idx[word] for word in text.split()]).unsqueeze(0)\n",
        "# h0 = torch.zeros(10, input_seq.size(0), 256)\n",
        "# c0 = torch.zeros(10, input_seq.size(0), 256)\n",
        "# output, _ = model(input_seq, h0, c0)\n",
        "# predicted_word = torch.argmaz(output).item()\n",
        "# print(f\"Predicted word: {idx2word[predicted_word]}\")"
      ],
      "metadata": {
        "id": "S79xEa6BsRPA"
      },
      "execution_count": 64,
      "outputs": []
    },
    {
      "source": [
        "input_seq = torch.tensor([word2idx[word] for word in text.split()]).unsqueeze(0)\n",
        "h0 = torch.zeros(1, input_seq.size(0), 256)  # num_layers = 1, batch_size = 1, hidden_size = 256\n",
        "c0 = torch.zeros(1, input_seq.size(0), 256)\n",
        "output, _ = model(input_seq, h0, c0)\n",
        "predicted_word = torch.argmax(output).item() # torch.argmax instead of torch.argmaz\n",
        "print(f\"Predicted word: {idx2word[predicted_word]}\")"
      ],
      "cell_type": "code",
      "metadata": {
        "colab": {
          "base_uri": "https://localhost:8080/"
        },
        "id": "5DQrwztq4UM0",
        "outputId": "9853acfd-5ac0-459d-ea64-20b7c076d06d"
      },
      "execution_count": 65,
      "outputs": [
        {
          "output_type": "stream",
          "name": "stdout",
          "text": [
            "Predicted word: the\n"
          ]
        }
      ]
    },
    {
      "cell_type": "code",
      "source": [
        "out, _ = model(input_seq, h0, c0)"
      ],
      "metadata": {
        "id": "7eRVCBgs32Y4"
      },
      "execution_count": 66,
      "outputs": []
    },
    {
      "cell_type": "code",
      "source": [
        "out.shape"
      ],
      "metadata": {
        "colab": {
          "base_uri": "https://localhost:8080/"
        },
        "id": "cztwaqE14qH8",
        "outputId": "ef163f87-f998-4bf0-a348-1c02beea17f6"
      },
      "execution_count": 67,
      "outputs": [
        {
          "output_type": "execute_result",
          "data": {
            "text/plain": [
              "torch.Size([1, 102])"
            ]
          },
          "metadata": {},
          "execution_count": 67
        }
      ]
    },
    {
      "cell_type": "code",
      "source": [],
      "metadata": {
        "id": "Jr8E1zJ14x3K"
      },
      "execution_count": 67,
      "outputs": []
    }
  ]
}